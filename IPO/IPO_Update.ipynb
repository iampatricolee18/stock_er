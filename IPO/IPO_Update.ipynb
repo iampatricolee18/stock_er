{
 "cells": [
  {
   "cell_type": "code",
   "execution_count": 1,
   "id": "fdaccfb0-4f8e-4371-a162-2c0f037c2ad2",
   "metadata": {},
   "outputs": [],
   "source": [
    "import pandas as pd\n",
    "import requests\n",
    "from bs4 import BeautifulSoup"
   ]
  },
  {
   "cell_type": "code",
   "execution_count": 2,
   "id": "53897549-6820-479c-a96e-d78471440943",
   "metadata": {},
   "outputs": [],
   "source": [
    "# Download all IPOs since 2019\n",
    "\n",
    "yrs = [2019, 2020, 2021, 2022, 2023]\n",
    "\n",
    "ipo = pd.DataFrame()\n",
    "\n",
    "for yr in yrs:\n",
    "    url = f\"https://stockanalysis.com/ipos/{yr}\"\n",
    "    response = requests.get(url)\n",
    "    soup = BeautifulSoup(response.content, \"html.parser\")\n",
    "    df = pd.read_html(str(soup))\n",
    "    ipo = pd.concat([ipo, df[0]], ignore_index=True)\n",
    "\n",
    "ipo.to_csv(\"ipo.csv\", index=False)"
   ]
  },
  {
   "cell_type": "code",
   "execution_count": 3,
   "id": "3725de58-07a4-4620-a8c8-6ef505e9bd09",
   "metadata": {},
   "outputs": [],
   "source": [
    "# Load ipo.csv and update 2023 IPOs only\n",
    "\n",
    "ipo = pd.read_csv(\"ipo.csv\")\n",
    "\n",
    "url = f\"https://stockanalysis.com/ipos/2023\"\n",
    "response = requests.get(url)\n",
    "soup = BeautifulSoup(response.content, \"html.parser\")\n",
    "df = pd.read_html(str(soup))\n",
    "ipo = pd.concat([ipo, df[0]], ignore_index=True).drop_duplicates()\n",
    "\n",
    "ipo.to_csv(\"ipo.csv\", index=False)"
   ]
  }
 ],
 "metadata": {
  "kernelspec": {
   "display_name": "Python 3 (ipykernel)",
   "language": "python",
   "name": "python3"
  },
  "language_info": {
   "codemirror_mode": {
    "name": "ipython",
    "version": 3
   },
   "file_extension": ".py",
   "mimetype": "text/x-python",
   "name": "python",
   "nbconvert_exporter": "python",
   "pygments_lexer": "ipython3",
   "version": "3.10.9"
  }
 },
 "nbformat": 4,
 "nbformat_minor": 5
}
