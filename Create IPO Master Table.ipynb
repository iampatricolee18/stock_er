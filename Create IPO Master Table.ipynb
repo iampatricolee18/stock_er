{
 "cells": [
  {
   "cell_type": "markdown",
   "id": "bd32cc5d",
   "metadata": {},
   "source": [
    "# Create IPO Master Table "
   ]
  },
  {
   "cell_type": "code",
   "execution_count": 1,
   "id": "dba4e2f5",
   "metadata": {},
   "outputs": [],
   "source": [
    "#import library\n",
    "\n",
    "import yfinance as yf\n",
    "import pandas as pd, numpy as np\n",
    "import matplotlib.pyplot as plt"
   ]
  },
  {
   "cell_type": "code",
   "execution_count": 2,
   "id": "7b0b8cfa",
   "metadata": {
    "scrolled": true
   },
   "outputs": [
    {
     "data": {
      "text/html": [
       "<div>\n",
       "<style scoped>\n",
       "    .dataframe tbody tr th:only-of-type {\n",
       "        vertical-align: middle;\n",
       "    }\n",
       "\n",
       "    .dataframe tbody tr th {\n",
       "        vertical-align: top;\n",
       "    }\n",
       "\n",
       "    .dataframe thead th {\n",
       "        text-align: right;\n",
       "    }\n",
       "</style>\n",
       "<table border=\"1\" class=\"dataframe\">\n",
       "  <thead>\n",
       "    <tr style=\"text-align: right;\">\n",
       "      <th></th>\n",
       "      <th>IPODate</th>\n",
       "      <th>CompanyName</th>\n",
       "      <th>StockCode</th>\n",
       "      <th>IPOValue</th>\n",
       "      <th>IPOPrice</th>\n",
       "    </tr>\n",
       "  </thead>\n",
       "  <tbody>\n",
       "    <tr>\n",
       "      <th>0</th>\n",
       "      <td>2019-01-31</td>\n",
       "      <td>New Fortress Energy LLC</td>\n",
       "      <td>NFE</td>\n",
       "      <td>300.0M</td>\n",
       "      <td>15</td>\n",
       "    </tr>\n",
       "    <tr>\n",
       "      <th>1</th>\n",
       "      <td>2019-01-31</td>\n",
       "      <td>Pivotal Acquisition Corp</td>\n",
       "      <td>PVT_u</td>\n",
       "      <td>200.0M</td>\n",
       "      <td>10</td>\n",
       "    </tr>\n",
       "    <tr>\n",
       "      <th>2</th>\n",
       "      <td>2019-02-28</td>\n",
       "      <td>Super League Gaming Inc</td>\n",
       "      <td>SLGG</td>\n",
       "      <td>27.3M</td>\n",
       "      <td>10.00-12.00</td>\n",
       "    </tr>\n",
       "    <tr>\n",
       "      <th>3</th>\n",
       "      <td>2019-02-28</td>\n",
       "      <td>Tortoise Acquisition</td>\n",
       "      <td>SHLL_u</td>\n",
       "      <td>225.0M</td>\n",
       "      <td>10</td>\n",
       "    </tr>\n",
       "    <tr>\n",
       "      <th>4</th>\n",
       "      <td>2019-02-27</td>\n",
       "      <td>Kaleido Biosciences Inc</td>\n",
       "      <td>KLDO</td>\n",
       "      <td>104.8M</td>\n",
       "      <td>20.00-22.00</td>\n",
       "    </tr>\n",
       "  </tbody>\n",
       "</table>\n",
       "</div>"
      ],
      "text/plain": [
       "      IPODate               CompanyName StockCode IPOValue     IPOPrice\n",
       "0  2019-01-31   New Fortress Energy LLC       NFE   300.0M           15\n",
       "1  2019-01-31  Pivotal Acquisition Corp     PVT_u   200.0M           10\n",
       "2  2019-02-28   Super League Gaming Inc      SLGG    27.3M  10.00-12.00\n",
       "3  2019-02-28      Tortoise Acquisition    SHLL_u   225.0M           10\n",
       "4  2019-02-27   Kaleido Biosciences Inc      KLDO   104.8M  20.00-22.00"
      ]
     },
     "execution_count": 2,
     "metadata": {},
     "output_type": "execute_result"
    }
   ],
   "source": [
    "df = pd.read_csv(\"IPO/ipo_calendar.csv\")\n",
    "df.head()"
   ]
  },
  {
   "cell_type": "code",
   "execution_count": null,
   "id": "5b6b1145",
   "metadata": {},
   "outputs": [],
   "source": []
  },
  {
   "cell_type": "code",
   "execution_count": 3,
   "id": "f07d7958",
   "metadata": {},
   "outputs": [
    {
     "data": {
      "text/html": [
       "<div>\n",
       "<style scoped>\n",
       "    .dataframe tbody tr th:only-of-type {\n",
       "        vertical-align: middle;\n",
       "    }\n",
       "\n",
       "    .dataframe tbody tr th {\n",
       "        vertical-align: top;\n",
       "    }\n",
       "\n",
       "    .dataframe thead th {\n",
       "        text-align: right;\n",
       "    }\n",
       "</style>\n",
       "<table border=\"1\" class=\"dataframe\">\n",
       "  <thead>\n",
       "    <tr style=\"text-align: right;\">\n",
       "      <th></th>\n",
       "      <th>IPODate</th>\n",
       "      <th>CompanyName</th>\n",
       "      <th>StockCode</th>\n",
       "      <th>IPOValue</th>\n",
       "      <th>IPOPrice</th>\n",
       "    </tr>\n",
       "  </thead>\n",
       "  <tbody>\n",
       "    <tr>\n",
       "      <th>1488</th>\n",
       "      <td>2022-07-12</td>\n",
       "      <td>Nano Labs Ltd</td>\n",
       "      <td>NaN</td>\n",
       "      <td>20.4M</td>\n",
       "      <td>11.5</td>\n",
       "    </tr>\n",
       "  </tbody>\n",
       "</table>\n",
       "</div>"
      ],
      "text/plain": [
       "         IPODate    CompanyName StockCode IPOValue IPOPrice\n",
       "1488  2022-07-12  Nano Labs Ltd       NaN    20.4M     11.5"
      ]
     },
     "execution_count": 3,
     "metadata": {},
     "output_type": "execute_result"
    }
   ],
   "source": [
    "df[df.StockCode.isna()]"
   ]
  },
  {
   "cell_type": "code",
   "execution_count": 4,
   "id": "784466f5",
   "metadata": {},
   "outputs": [
    {
     "data": {
      "text/plain": [
       "['NFE', 'SLGG', 'KLDO', 'SOLY', 'MITO', 'HOTH', 'TCRR', 'AVDR', 'ANCN', 'BFL']"
      ]
     },
     "execution_count": 4,
     "metadata": {},
     "output_type": "execute_result"
    }
   ],
   "source": [
    "survivors = []\n",
    "\n",
    "for code in list(df.StockCode.values):\n",
    "    if type(code) == str:\n",
    "        if code[-1] != \"u\":\n",
    "            survivors.append(code)\n",
    "            \n",
    "    # Nano Labs -> NA        \n",
    "    else:\n",
    "        # only for Nano Labs\n",
    "        survivors.append(\"NA\")\n",
    "\n",
    "survivors[:10]"
   ]
  },
  {
   "cell_type": "code",
   "execution_count": 5,
   "id": "171b379f",
   "metadata": {},
   "outputs": [
    {
     "data": {
      "text/html": [
       "<div>\n",
       "<style scoped>\n",
       "    .dataframe tbody tr th:only-of-type {\n",
       "        vertical-align: middle;\n",
       "    }\n",
       "\n",
       "    .dataframe tbody tr th {\n",
       "        vertical-align: top;\n",
       "    }\n",
       "\n",
       "    .dataframe thead th {\n",
       "        text-align: right;\n",
       "    }\n",
       "</style>\n",
       "<table border=\"1\" class=\"dataframe\">\n",
       "  <thead>\n",
       "    <tr style=\"text-align: right;\">\n",
       "      <th></th>\n",
       "      <th>IPODate</th>\n",
       "      <th>CompanyName</th>\n",
       "      <th>StockCode</th>\n",
       "      <th>IPOValue</th>\n",
       "      <th>IPOPrice</th>\n",
       "    </tr>\n",
       "  </thead>\n",
       "  <tbody>\n",
       "    <tr>\n",
       "      <th>0</th>\n",
       "      <td>2019-01-31</td>\n",
       "      <td>New Fortress Energy LLC</td>\n",
       "      <td>NFE</td>\n",
       "      <td>300.0M</td>\n",
       "      <td>15</td>\n",
       "    </tr>\n",
       "    <tr>\n",
       "      <th>1</th>\n",
       "      <td>2019-02-28</td>\n",
       "      <td>Super League Gaming Inc</td>\n",
       "      <td>SLGG</td>\n",
       "      <td>27.3M</td>\n",
       "      <td>10.00-12.00</td>\n",
       "    </tr>\n",
       "    <tr>\n",
       "      <th>2</th>\n",
       "      <td>2019-02-27</td>\n",
       "      <td>Kaleido Biosciences Inc</td>\n",
       "      <td>KLDO</td>\n",
       "      <td>104.8M</td>\n",
       "      <td>20.00-22.00</td>\n",
       "    </tr>\n",
       "    <tr>\n",
       "      <th>3</th>\n",
       "      <td>2019-02-19</td>\n",
       "      <td>Soliton</td>\n",
       "      <td>SOLY</td>\n",
       "      <td>10.9M</td>\n",
       "      <td>5</td>\n",
       "    </tr>\n",
       "    <tr>\n",
       "      <th>4</th>\n",
       "      <td>2019-02-15</td>\n",
       "      <td>Stealth BioTherapeutics Inc</td>\n",
       "      <td>MITO</td>\n",
       "      <td>86.8M</td>\n",
       "      <td>12.00-14.00</td>\n",
       "    </tr>\n",
       "  </tbody>\n",
       "</table>\n",
       "</div>"
      ],
      "text/plain": [
       "      IPODate                  CompanyName StockCode IPOValue     IPOPrice\n",
       "0  2019-01-31      New Fortress Energy LLC       NFE   300.0M           15\n",
       "1  2019-02-28      Super League Gaming Inc      SLGG    27.3M  10.00-12.00\n",
       "2  2019-02-27      Kaleido Biosciences Inc      KLDO   104.8M  20.00-22.00\n",
       "3  2019-02-19                      Soliton      SOLY    10.9M            5\n",
       "4  2019-02-15  Stealth BioTherapeutics Inc      MITO    86.8M  12.00-14.00"
      ]
     },
     "execution_count": 5,
     "metadata": {},
     "output_type": "execute_result"
    }
   ],
   "source": [
    "IPO = df.loc[df.StockCode.isin(survivors)]\n",
    "IPO = IPO.reset_index(drop=True)\n",
    "IPO.head()"
   ]
  },
  {
   "cell_type": "code",
   "execution_count": null,
   "id": "36c3f2cc",
   "metadata": {
    "scrolled": true
   },
   "outputs": [
    {
     "name": "stdout",
     "output_type": "stream",
     "text": [
      "[**********************78%************           ]  1090 of 1400 completed"
     ]
    }
   ],
   "source": [
    "# get IPO data from yfinance\n",
    "\n",
    "tickers = list(IPO.StockCode.values)\n",
    "start_date = IPO.IPODate.min()\n",
    "end_date = IPO.IPODate.max()\n",
    "\n",
    "IPOraw = yf.download(tickers, start_date, end_date)"
   ]
  },
  {
   "cell_type": "code",
   "execution_count": null,
   "id": "1a81a54d",
   "metadata": {},
   "outputs": [],
   "source": [
    "#sorted(tickers)"
   ]
  },
  {
   "cell_type": "code",
   "execution_count": null,
   "id": "c2a15ec7",
   "metadata": {},
   "outputs": [],
   "source": [
    "IPOdata = IPOraw[\"Adj Close\"].dropna(axis=1, how='all') # drop if all values = NaN\n",
    "#IPOdata.columns.name = \"\"\n",
    "IPOdata.head()"
   ]
  },
  {
   "cell_type": "code",
   "execution_count": null,
   "id": "222bcac8",
   "metadata": {},
   "outputs": [],
   "source": [
    "IPOdata.shape"
   ]
  },
  {
   "cell_type": "code",
   "execution_count": null,
   "id": "a8f5e9d0",
   "metadata": {
    "scrolled": true
   },
   "outputs": [],
   "source": [
    "ticker_dic = {}\n",
    "\n",
    "max_length = IPOdata.shape[0]\n",
    "\n",
    "for col in IPOdata.columns:\n",
    "    L = [round(p,4) for p in IPOdata[col].values if str(p) != \"nan\"]\n",
    "    \n",
    "    if len(L) < max_length:\n",
    "        addition = max_length - len(L)\n",
    "        L = L + [\"ND\"]*addition\n",
    "    \n",
    "    ticker_dic[col] = L\n",
    "\n",
    "list(ticker_dic.keys())[:10]"
   ]
  },
  {
   "cell_type": "code",
   "execution_count": null,
   "id": "65e5fabd",
   "metadata": {
    "scrolled": false
   },
   "outputs": [],
   "source": [
    "ticker_dic[\"AMPL\"][-10:]"
   ]
  },
  {
   "cell_type": "code",
   "execution_count": null,
   "id": "eb1ea863",
   "metadata": {},
   "outputs": [],
   "source": [
    "master = pd.DataFrame(ticker_dic).T\n",
    "master.head()"
   ]
  },
  {
   "cell_type": "code",
   "execution_count": null,
   "id": "ad6fed11",
   "metadata": {},
   "outputs": [],
   "source": [
    "performance_dic = {\"ticker\":[],\n",
    "                   \"start_price\":[],\n",
    "                   \"x1.5_price\":[],\n",
    "                   \"x1.5_days\":[],\n",
    "                   \"x2_price\":[],\n",
    "                   \"x2_days\":[],\n",
    "                   \"x3_price\":[],\n",
    "                   \"x3_days\":[],\n",
    "                   \"max_price\":[],\n",
    "                   \"max_ratio\":[],\n",
    "                   \"max_days\":[],\n",
    "                  }\n",
    "\n",
    "\n",
    "for index in master.index:\n",
    "    start = master.at[index,0]\n",
    "    \n",
    "    prices = ticker_dic[index]\n",
    "    \n",
    "    m15 = (\"DNE\",\"DNE\")\n",
    "    m2 = (\"DNE\",\"DNE\")\n",
    "    m3 = (\"DNE\",\"DNE\")\n",
    "    \n",
    "    mm = (0,\"DNE\")\n",
    "    \n",
    "    for i in range(max_length):\n",
    "        if prices[i] == \"ND\":\n",
    "            break\n",
    "        else:\n",
    "            if prices[i] >= mm[0]:\n",
    "                mm = (prices[i], i)    \n",
    "        \n",
    "            if prices[i] >= start*3:\n",
    "                if m3[0] == \"DNE\":\n",
    "                    m3 = (prices[i], i)\n",
    "                    \n",
    "            if prices[i] >= start*2:\n",
    "                if m2[0] == \"DNE\":\n",
    "                    m2 = (prices[i], i)\n",
    "                    \n",
    "            if prices[i] >= start*1.5:\n",
    "                if m15[0] == \"DNE\":\n",
    "                    m15 = (prices[i], i) \n",
    "       \n",
    "    performance_dic[\"ticker\"].append(index)\n",
    "    performance_dic[\"start_price\"].append(start)\n",
    "    \n",
    "    performance_dic[\"x1.5_price\"].append(m15[0])    \n",
    "    performance_dic[\"x1.5_days\"].append(m15[1])\n",
    "\n",
    "    performance_dic[\"x2_price\"].append(m2[0])    \n",
    "    performance_dic[\"x2_days\"].append(m2[1])\n",
    "\n",
    "    performance_dic[\"x3_price\"].append(m3[0])\n",
    "    performance_dic[\"x3_days\"].append(m3[1])\n",
    "\n",
    "    performance_dic[\"max_days\"].append(mm[0])\n",
    "    performance_dic[\"max_ratio\"].append(mm[1]/start)\n",
    "    performance_dic[\"max_price\"].append(mm[1])\n"
   ]
  },
  {
   "cell_type": "code",
   "execution_count": null,
   "id": "0c6a8303",
   "metadata": {},
   "outputs": [],
   "source": [
    "performance = pd.DataFrame(performance_dic)\n",
    "performance.tail()"
   ]
  },
  {
   "cell_type": "code",
   "execution_count": null,
   "id": "cb118ed6",
   "metadata": {},
   "outputs": [],
   "source": [
    "performance[performance[\"x1.5_price\"] != \"DNE\"]"
   ]
  },
  {
   "cell_type": "code",
   "execution_count": null,
   "id": "9ccdb235",
   "metadata": {},
   "outputs": [],
   "source": [
    "performance[performance[\"x1.5_price\"] != \"DNE\"][\"x1.5_price\"].mean()"
   ]
  },
  {
   "cell_type": "code",
   "execution_count": null,
   "id": "49537d6d",
   "metadata": {},
   "outputs": [],
   "source": [
    "performance[performance[\"x1.5_price\"] != \"DNE\"][\"x1.5_days\"].mean()"
   ]
  },
  {
   "cell_type": "code",
   "execution_count": null,
   "id": "8ba16316",
   "metadata": {},
   "outputs": [],
   "source": [
    "performance[performance[\"x2_price\"] != \"DNE\"]"
   ]
  },
  {
   "cell_type": "code",
   "execution_count": null,
   "id": "054bf770",
   "metadata": {},
   "outputs": [],
   "source": [
    "performance[performance[\"x2_price\"] != \"DNE\"][\"x2_price\"].mean()"
   ]
  },
  {
   "cell_type": "code",
   "execution_count": null,
   "id": "d0331864",
   "metadata": {},
   "outputs": [],
   "source": [
    "performance[performance[\"x2_price\"] != \"DNE\"][\"x2_days\"].mean()"
   ]
  },
  {
   "cell_type": "code",
   "execution_count": null,
   "id": "4262f0d1",
   "metadata": {},
   "outputs": [],
   "source": [
    "performance[performance[\"x3_price\"] != \"DNE\"]"
   ]
  },
  {
   "cell_type": "code",
   "execution_count": null,
   "id": "ab4e6bf6",
   "metadata": {},
   "outputs": [],
   "source": [
    "performance[performance[\"x3_price\"] != \"DNE\"][\"x3_price\"].mean()"
   ]
  },
  {
   "cell_type": "code",
   "execution_count": null,
   "id": "cc187488",
   "metadata": {},
   "outputs": [],
   "source": [
    "performance[performance[\"x3_price\"] != \"DNE\"][\"x3_days\"].mean()"
   ]
  },
  {
   "cell_type": "code",
   "execution_count": null,
   "id": "bf14042b",
   "metadata": {},
   "outputs": [],
   "source": []
  },
  {
   "cell_type": "code",
   "execution_count": null,
   "id": "aa5e4451",
   "metadata": {},
   "outputs": [],
   "source": [
    "performance.max_ratio.median(), performance.max_days.median(), performance.max_price.median()"
   ]
  },
  {
   "cell_type": "code",
   "execution_count": null,
   "id": "56326b3d",
   "metadata": {},
   "outputs": [],
   "source": [
    "performance.max_ratio.mean(), performance.max_days.mean(), performance.max_price.mean()"
   ]
  },
  {
   "cell_type": "code",
   "execution_count": null,
   "id": "32fbcff5",
   "metadata": {},
   "outputs": [],
   "source": []
  }
 ],
 "metadata": {
  "kernelspec": {
   "display_name": "Python 3 (ipykernel)",
   "language": "python",
   "name": "python3"
  },
  "language_info": {
   "codemirror_mode": {
    "name": "ipython",
    "version": 3
   },
   "file_extension": ".py",
   "mimetype": "text/x-python",
   "name": "python",
   "nbconvert_exporter": "python",
   "pygments_lexer": "ipython3",
   "version": "3.10.9"
  }
 },
 "nbformat": 4,
 "nbformat_minor": 5
}
